{
 "cells": [
  {
   "cell_type": "code",
   "execution_count": 1,
   "metadata": {
    "collapsed": true
   },
   "outputs": [],
   "source": [
    "from numpy import array, zeros, argmin, inf, equal, ndim\n",
    "from scipy.spatial.distance import cdist\n",
    "import pandas as pd\n",
    "\n",
    "\n",
    "def dtw(x, y, dist):\n",
    "    \"\"\"\n",
    "    Computes Dynamic Time Warping (DTW) of two sequences.\n",
    "    :param array x: N1*M array\n",
    "    :param array y: N2*M array\n",
    "    :param func dist: distance used as cost measure\n",
    "    Returns the minimum distance, the cost matrix, the accumulated cost matrix, and the wrap path.\n",
    "    \"\"\"\n",
    "    assert len(x)\n",
    "    assert len(y)\n",
    "    r, c = len(x), len(y)\n",
    "    D0 = zeros((r + 1, c + 1))\n",
    "    D0[0, 1:] = inf\n",
    "    D0[1:, 0] = inf\n",
    "    D1 = D0[1:, 1:]  # view\n",
    "    for i in range(r):\n",
    "        for j in range(c):\n",
    "            D1[i, j] = dist(x[i], y[j])\n",
    "    C = D1.copy()\n",
    "    for i in range(r):\n",
    "        for j in range(c):\n",
    "            D1[i, j] += min(D0[i, j], D0[i, j + 1], D0[i + 1, j])\n",
    "    if len(x) == 1:\n",
    "        path = zeros(len(y)), range(len(y))\n",
    "    elif len(y) == 1:\n",
    "        path = range(len(x)), zeros(len(x))\n",
    "    else:\n",
    "        path = _traceback(D0)\n",
    "    return D1[-1, -1] / sum(D1.shape), C, D1, path\n",
    "\n",
    "\n",
    "def _traceback(D):\n",
    "    i, j = array(D.shape) - 2\n",
    "    p, q = [i], [j]\n",
    "    while ((i > 0) or (j > 0)):\n",
    "        tb = argmin((D[i, j], D[i, j + 1], D[i + 1, j]))\n",
    "        if (tb == 0):\n",
    "            i -= 1\n",
    "            j -= 1\n",
    "        elif (tb == 1):\n",
    "            i -= 1\n",
    "        else:  # (tb == 2):\n",
    "            j -= 1\n",
    "        p.insert(0, i)\n",
    "        q.insert(0, j)\n",
    "    return array(p), array(q)\n",
    "\n",
    "\n",
    "def dist_for_float(p1, p2):\n",
    "    dist = 0.0\n",
    "    elem_type = type(p1)\n",
    "    if  elem_type == float or elem_type == int :\n",
    "        dist = float(abs(p1 - p2))\n",
    "    else :\n",
    "        sumval = 0.0\n",
    "        for i in range(len(p1)) :\n",
    "            sumval += pow(p1[i] - p2[i], 2)\n",
    "        dist = pow(sumval, 0.5)\n",
    "    return dist"
   ]
  },
  {
   "cell_type": "code",
   "execution_count": 2,
   "metadata": {
    "collapsed": true
   },
   "outputs": [],
   "source": [
    "file_path = './Problem_C_Data/hair_dryer.tsv'\n",
    "file_path2 = './Problem_C_Data/microwave.tsv'\n",
    "file_path3 = './Problem_C_Data/pacifier.tsv'\n",
    "\n",
    "reviews = pd.read_csv(file_path, sep='\\t', header=0)\n",
    "reviews2 = pd.read_csv(file_path2, sep='\\t', header=0)\n",
    "reviews3 = pd.read_csv(file_path3, sep='\\t', header=0)"
   ]
  },
  {
   "cell_type": "code",
   "execution_count": 3,
   "metadata": {
    "collapsed": true
   },
   "outputs": [],
   "source": [
    "title = reviews['product_title'].value_counts().index[0]"
   ]
  },
  {
   "cell_type": "code",
   "execution_count": 6,
   "metadata": {},
   "outputs": [
    {
     "data": {
      "text/html": [
       "<div>\n",
       "<style scoped>\n",
       "    .dataframe tbody tr th:only-of-type {\n",
       "        vertical-align: middle;\n",
       "    }\n",
       "\n",
       "    .dataframe tbody tr th {\n",
       "        vertical-align: top;\n",
       "    }\n",
       "\n",
       "    .dataframe thead th {\n",
       "        text-align: right;\n",
       "    }\n",
       "</style>\n",
       "<table border=\"1\" class=\"dataframe\">\n",
       "  <thead>\n",
       "    <tr style=\"text-align: right;\">\n",
       "      <th></th>\n",
       "      <th>text</th>\n",
       "      <th>rating</th>\n",
       "      <th>recommend</th>\n",
       "      <th>vine</th>\n",
       "    </tr>\n",
       "  </thead>\n",
       "  <tbody>\n",
       "    <tr>\n",
       "      <td>0</td>\n",
       "      <td>Works great!. Works great</td>\n",
       "      <td>5</td>\n",
       "      <td>NaN</td>\n",
       "      <td>N</td>\n",
       "    </tr>\n",
       "    <tr>\n",
       "      <td>4</td>\n",
       "      <td>I just got this last week. I think's great. Th...</td>\n",
       "      <td>4</td>\n",
       "      <td>NaN</td>\n",
       "      <td>N</td>\n",
       "    </tr>\n",
       "    <tr>\n",
       "      <td>23</td>\n",
       "      <td>After using the same blowdryer for probably 8-...</td>\n",
       "      <td>5</td>\n",
       "      <td>NaN</td>\n",
       "      <td>N</td>\n",
       "    </tr>\n",
       "    <tr>\n",
       "      <td>50</td>\n",
       "      <td>The ends are pink. Not what I expected. Three ...</td>\n",
       "      <td>3</td>\n",
       "      <td>NaN</td>\n",
       "      <td>N</td>\n",
       "    </tr>\n",
       "    <tr>\n",
       "      <td>79</td>\n",
       "      <td>I was hoping for a quieter blow dryer. This is...</td>\n",
       "      <td>3</td>\n",
       "      <td>NaN</td>\n",
       "      <td>N</td>\n",
       "    </tr>\n",
       "  </tbody>\n",
       "</table>\n",
       "</div>"
      ],
      "text/plain": [
       "                                                 text  rating  recommend vine\n",
       "0                           Works great!. Works great       5        NaN    N\n",
       "4   I just got this last week. I think's great. Th...       4        NaN    N\n",
       "23  After using the same blowdryer for probably 8-...       5        NaN    N\n",
       "50  The ends are pink. Not what I expected. Three ...       3        NaN    N\n",
       "79  I was hoping for a quieter blow dryer. This is...       3        NaN    N"
      ]
     },
     "execution_count": 6,
     "metadata": {},
     "output_type": "execute_result"
    }
   ],
   "source": [
    "kindle = reviews[reviews.product_title==title]\n",
    "comments = pd.concat([kindle['review_body']+\". \"+ kindle['review_headline'],kindle['star_rating'],kindle['helpful_votes']/kindle['total_votes'],kindle['vine']],axis=1)\n",
    "comments.columns=['text','rating','recommend','vine']\n",
    "comments.head()"
   ]
  },
  {
   "cell_type": "code",
   "execution_count": 7,
   "metadata": {},
   "outputs": [
    {
     "name": "stdout",
     "output_type": "stream",
     "text": [
      "Stemmed hello-happiest-place-organ-organ-organ-happi-world-happi-much-happi-\n",
      "Lemmatized hello-happiest-place-organize-organizes-organizing-happy-world-happiness-much-happy-\n"
     ]
    }
   ],
   "source": [
    "import string\n",
    "import nltk\n",
    "from nltk import PorterStemmer\n",
    "import re \n",
    "\n",
    "stopwords = nltk.corpus.stopwords.words('english')\n",
    "ps = PorterStemmer()\n",
    "wn = nltk.WordNetLemmatizer()\n",
    "\n",
    "\n",
    "def clean_stem (sent): \n",
    "    temp1 =\"\".join(x for x in sent if x not in string.punctuation)\n",
    "    temp2 = re.split('\\W+',temp1.lower())\n",
    "    temp3 = [ps.stem(x) for x in temp2 if x not in stopwords]\n",
    "    return temp3\n",
    "\n",
    "def clean_lemma (sent): \n",
    "    temp1 =\"\".join(x for x in sent if x not in string.punctuation)\n",
    "    temp2 = re.split('\\W+',temp1.lower())\n",
    "    temp3 = [wn.lemmatize(x) for x in temp2 if x not in stopwords]\n",
    "    return temp3\n",
    "\n",
    "text=\"Hello this is, my happiest place. organize, organizes, and organizing in Happy world ! with happiness ..\\\n",
    "so much of happy!! \"\n",
    "\n",
    "print(\"Stemmed \" + \"-\".join(clean_stem(text)))\n",
    "print(\"Lemmatized \" + \"-\".join(clean_lemma(text)))"
   ]
  },
  {
   "cell_type": "code",
   "execution_count": 8,
   "metadata": {},
   "outputs": [
    {
     "name": "stdout",
     "output_type": "stream",
     "text": [
      "Stemmed - 2297\n",
      "Lemmatized - 2756\n"
     ]
    }
   ],
   "source": [
    "from sklearn.feature_extraction.text import TfidfVectorizer\n",
    "\n",
    "vectstem = TfidfVectorizer(analyzer=clean_stem)\n",
    "vectlemm = TfidfVectorizer(analyzer=clean_lemma)\n",
    "\n",
    "textfeatures=vectstem.fit_transform(comments['text'])\n",
    "print(\"Stemmed - \" + str(len(vectstem.get_feature_names())))\n",
    "\n",
    "vectlemm.fit_transform(comments['text'])\n",
    "print(\"Lemmatized - \" + str(len(vectlemm.get_feature_names())))"
   ]
  },
  {
   "cell_type": "code",
   "execution_count": 11,
   "metadata": {},
   "outputs": [
    {
     "data": {
      "text/html": [
       "<div>\n",
       "<style scoped>\n",
       "    .dataframe tbody tr th:only-of-type {\n",
       "        vertical-align: middle;\n",
       "    }\n",
       "\n",
       "    .dataframe tbody tr th {\n",
       "        vertical-align: top;\n",
       "    }\n",
       "\n",
       "    .dataframe thead th {\n",
       "        text-align: right;\n",
       "    }\n",
       "</style>\n",
       "<table border=\"1\" class=\"dataframe\">\n",
       "  <thead>\n",
       "    <tr style=\"text-align: right;\">\n",
       "      <th></th>\n",
       "      <th>sum_scores_TFIDF</th>\n",
       "    </tr>\n",
       "  </thead>\n",
       "  <tbody>\n",
       "    <tr>\n",
       "      <td>screech</td>\n",
       "      <td>0.058194</td>\n",
       "    </tr>\n",
       "    <tr>\n",
       "      <td>smart</td>\n",
       "      <td>0.058194</td>\n",
       "    </tr>\n",
       "    <tr>\n",
       "      <td>occasion</td>\n",
       "      <td>0.058194</td>\n",
       "    </tr>\n",
       "    <tr>\n",
       "      <td>happend</td>\n",
       "      <td>0.058194</td>\n",
       "    </tr>\n",
       "    <tr>\n",
       "      <td>muchi</td>\n",
       "      <td>0.058194</td>\n",
       "    </tr>\n",
       "  </tbody>\n",
       "</table>\n",
       "</div>"
      ],
      "text/plain": [
       "          sum_scores_TFIDF\n",
       "screech           0.058194\n",
       "smart             0.058194\n",
       "occasion          0.058194\n",
       "happend           0.058194\n",
       "muchi             0.058194"
      ]
     },
     "execution_count": 11,
     "metadata": {},
     "output_type": "execute_result"
    }
   ],
   "source": [
    "textmatrix = pd.DataFrame(textfeatures.toarray(),columns=vectstem.vocabulary_)\n",
    "sum_scores = pd.DataFrame(textmatrix.sum(),columns=['sum_scores_TFIDF'])\n",
    "sum_scores.sort_values(by='sum_scores_TFIDF',ascending=True)[:5] "
   ]
  },
  {
   "cell_type": "code",
   "execution_count": 12,
   "metadata": {},
   "outputs": [
    {
     "data": {
      "text/html": [
       "<div>\n",
       "<style scoped>\n",
       "    .dataframe tbody tr th:only-of-type {\n",
       "        vertical-align: middle;\n",
       "    }\n",
       "\n",
       "    .dataframe tbody tr th {\n",
       "        vertical-align: top;\n",
       "    }\n",
       "\n",
       "    .dataframe thead th {\n",
       "        text-align: right;\n",
       "    }\n",
       "</style>\n",
       "<table border=\"1\" class=\"dataframe\">\n",
       "  <thead>\n",
       "    <tr style=\"text-align: right;\">\n",
       "      <th></th>\n",
       "      <th>sum_scores_TFIDF</th>\n",
       "    </tr>\n",
       "  </thead>\n",
       "  <tbody>\n",
       "    <tr>\n",
       "      <td>femal</td>\n",
       "      <td>50.284323</td>\n",
       "    </tr>\n",
       "    <tr>\n",
       "      <td>cheaper</td>\n",
       "      <td>46.950293</td>\n",
       "    </tr>\n",
       "    <tr>\n",
       "      <td>spray</td>\n",
       "      <td>33.324485</td>\n",
       "    </tr>\n",
       "    <tr>\n",
       "      <td>34overcook34</td>\n",
       "      <td>31.898097</td>\n",
       "    </tr>\n",
       "    <tr>\n",
       "      <td>except</td>\n",
       "      <td>27.724263</td>\n",
       "    </tr>\n",
       "  </tbody>\n",
       "</table>\n",
       "</div>"
      ],
      "text/plain": [
       "              sum_scores_TFIDF\n",
       "femal                50.284323\n",
       "cheaper              46.950293\n",
       "spray                33.324485\n",
       "34overcook34         31.898097\n",
       "except               27.724263"
      ]
     },
     "execution_count": 12,
     "metadata": {},
     "output_type": "execute_result"
    }
   ],
   "source": [
    "sum_scores.sort_values(by='sum_scores_TFIDF',ascending=False)[:5]"
   ]
  },
  {
   "cell_type": "code",
   "execution_count": 13,
   "metadata": {},
   "outputs": [
    {
     "data": {
      "text/html": [
       "<div>\n",
       "<style scoped>\n",
       "    .dataframe tbody tr th:only-of-type {\n",
       "        vertical-align: middle;\n",
       "    }\n",
       "\n",
       "    .dataframe tbody tr th {\n",
       "        vertical-align: top;\n",
       "    }\n",
       "\n",
       "    .dataframe thead th {\n",
       "        text-align: right;\n",
       "    }\n",
       "</style>\n",
       "<table border=\"1\" class=\"dataframe\">\n",
       "  <thead>\n",
       "    <tr style=\"text-align: right;\">\n",
       "      <th></th>\n",
       "      <th>text</th>\n",
       "      <th>rating</th>\n",
       "      <th>recommend</th>\n",
       "      <th>vine</th>\n",
       "    </tr>\n",
       "  </thead>\n",
       "  <tbody>\n",
       "    <tr>\n",
       "      <td>0</td>\n",
       "      <td>Works great!. Works great</td>\n",
       "      <td>5</td>\n",
       "      <td>NaN</td>\n",
       "      <td>N</td>\n",
       "    </tr>\n",
       "    <tr>\n",
       "      <td>4</td>\n",
       "      <td>I just got this last week. I think's great. The cord length is perfect.. I think's great. The cord length is perfect</td>\n",
       "      <td>4</td>\n",
       "      <td>NaN</td>\n",
       "      <td>N</td>\n",
       "    </tr>\n",
       "    <tr>\n",
       "      <td>23</td>\n",
       "      <td>After using the same blowdryer for probably 8-10years, I decided to upgrade to a new one. I have very thick (*VERY THICK!*) moderately wavy shoulder length hair. Due to my hair thickness, drying times were typically 30-45minutes. I wish I was joking. This dryer dries completely in under 15 minutes (about 10-12minutes more precisely). I am so thrilled with this dryer!! Can't say enough good things about it! I like the texture of the dryer itself, love the speed of drying and the cord is long enough to actually be able to use it! SCORE!. I am obsessed</td>\n",
       "      <td>5</td>\n",
       "      <td>NaN</td>\n",
       "      <td>N</td>\n",
       "    </tr>\n",
       "    <tr>\n",
       "      <td>50</td>\n",
       "      <td>The ends are pink. Not what I expected. Three Stars</td>\n",
       "      <td>3</td>\n",
       "      <td>NaN</td>\n",
       "      <td>N</td>\n",
       "    </tr>\n",
       "    <tr>\n",
       "      <td>79</td>\n",
       "      <td>I was hoping for a quieter blow dryer. This is definitely quieter than my other dryer, but still not quiet. I also read all kinds of reviews that said this dries your hair so it's smooth and silky. The only thing that makes my hair smooth and silky is product!. Not as Quiet as the Reviews said</td>\n",
       "      <td>3</td>\n",
       "      <td>NaN</td>\n",
       "      <td>N</td>\n",
       "    </tr>\n",
       "  </tbody>\n",
       "</table>\n",
       "</div>"
      ],
      "text/plain": [
       "                                                                                                                                                                                                                                                                                                                                                                                                                                                                                                                                                                           text  \\\n",
       "0   Works great!. Works great                                                                                                                                                                                                                                                                                                                                                                                                                                                                                                                                                     \n",
       "4   I just got this last week. I think's great. The cord length is perfect.. I think's great. The cord length is perfect                                                                                                                                                                                                                                                                                                                                                                                                                                                          \n",
       "23  After using the same blowdryer for probably 8-10years, I decided to upgrade to a new one. I have very thick (*VERY THICK!*) moderately wavy shoulder length hair. Due to my hair thickness, drying times were typically 30-45minutes. I wish I was joking. This dryer dries completely in under 15 minutes (about 10-12minutes more precisely). I am so thrilled with this dryer!! Can't say enough good things about it! I like the texture of the dryer itself, love the speed of drying and the cord is long enough to actually be able to use it! SCORE!. I am obsessed   \n",
       "50  The ends are pink. Not what I expected. Three Stars                                                                                                                                                                                                                                                                                                                                                                                                                                                                                                                           \n",
       "79  I was hoping for a quieter blow dryer. This is definitely quieter than my other dryer, but still not quiet. I also read all kinds of reviews that said this dries your hair so it's smooth and silky. The only thing that makes my hair smooth and silky is product!. Not as Quiet as the Reviews said                                                                                                                                                                                                                                                                        \n",
       "\n",
       "    rating  recommend vine  \n",
       "0   5      NaN         N    \n",
       "4   4      NaN         N    \n",
       "23  5      NaN         N    \n",
       "50  3      NaN         N    \n",
       "79  3      NaN         N    "
      ]
     },
     "execution_count": 13,
     "metadata": {},
     "output_type": "execute_result"
    }
   ],
   "source": [
    "pd.set_option('display.max_colwidth', 0)\n",
    "comments.head()"
   ]
  },
  {
   "cell_type": "code",
   "execution_count": 15,
   "metadata": {
    "scrolled": true
   },
   "outputs": [
    {
     "name": "stdout",
     "output_type": "stream",
     "text": [
      "happy {'neg': 0.0, 'neu': 0.483, 'pos': 0.517, 'compound': 0.9522}\n",
      "sad {'neg': 0.714, 'neu': 0.286, 'pos': 0.0, 'compound': -0.9432}\n",
      "dont care - {'neg': 0.0, 'neu': 1.0, 'pos': 0.0, 'compound': 0.0}\n",
      "dss - {'neg': 0.0, 'neu': 1.0, 'pos': 0.0, 'compound': 0.0}\n"
     ]
    }
   ],
   "source": [
    "from nltk.sentiment.vader import SentimentIntensityAnalyzer\n",
    "sid = SentimentIntensityAnalyzer()\n",
    "\n",
    "happy = \"I am Happy. this is so awesome. I love life. I will be in heaven\"\n",
    "#when you find free food in university\n",
    "print(\"happy \" + str(sid.polarity_scores(text)))\n",
    "\n",
    "\n",
    "sad = \"i hate this. I am mad this is stupid. I will kill you\"\n",
    "#when your professor gives you a ZERO in assignment\n",
    "print(\"sad \" + str(sid.polarity_scores(sad)))\n",
    "\n",
    "neut = \"I will come. You should go. This is blue color\"\n",
    "#when you state facts and nothing else\n",
    "print(\"dont care - \" + str(sid.polarity_scores(neut)))\n",
    "\n",
    "srishti = \"money\"\n",
    "print(\"dss - \" + str(sid.polarity_scores(srishti)))"
   ]
  },
  {
   "cell_type": "code",
   "execution_count": 16,
   "metadata": {},
   "outputs": [
    {
     "name": "stdout",
     "output_type": "stream",
     "text": [
      "0\n"
     ]
    },
    {
     "data": {
      "text/html": [
       "<div>\n",
       "<style scoped>\n",
       "    .dataframe tbody tr th:only-of-type {\n",
       "        vertical-align: middle;\n",
       "    }\n",
       "\n",
       "    .dataframe tbody tr th {\n",
       "        vertical-align: top;\n",
       "    }\n",
       "\n",
       "    .dataframe thead th {\n",
       "        text-align: right;\n",
       "    }\n",
       "</style>\n",
       "<table border=\"1\" class=\"dataframe\">\n",
       "  <thead>\n",
       "    <tr style=\"text-align: right;\">\n",
       "      <th></th>\n",
       "      <th>text</th>\n",
       "      <th>rating</th>\n",
       "      <th>recommend</th>\n",
       "      <th>vine</th>\n",
       "      <th>sentiment</th>\n",
       "      <th>length</th>\n",
       "      <th>target_rec</th>\n",
       "    </tr>\n",
       "  </thead>\n",
       "  <tbody>\n",
       "    <tr>\n",
       "      <td>80</td>\n",
       "      <td>Have had it for about 4 years and thought it did a good enough job.  I use it on  medium heat/blow settings and always clean the air intake screen at the first sign of lint.  However, it has recently been throwing out sparks and some actual flames.  At first it was a high pitched screeching noise, then popping, then sparks, now FLAMES!  It is in the trash and I will be looking for a better dryer.  Funny that my mother has had the same dryer for over 15 years, but this modern &amp;#34;high tech&amp;#34; stuff is just mass produced junk!. Dangerous, shoots SPARKS and FLAMES!</td>\n",
       "      <td>1</td>\n",
       "      <td>0.5</td>\n",
       "      <td>N</td>\n",
       "      <td>0.3455</td>\n",
       "      <td>109</td>\n",
       "      <td>0</td>\n",
       "    </tr>\n",
       "    <tr>\n",
       "      <td>100</td>\n",
       "      <td>Over heated in 2 minute! We had to return it and had to pay bubble rap to sent it back to Amazon. Good luck if you want to order this through online.. Overheated in 2 minutes.</td>\n",
       "      <td>1</td>\n",
       "      <td>NaN</td>\n",
       "      <td>N</td>\n",
       "      <td>0.7777</td>\n",
       "      <td>37</td>\n",
       "      <td>0</td>\n",
       "    </tr>\n",
       "    <tr>\n",
       "      <td>282</td>\n",
       "      <td>Please don't buy this. I used this for just 3 or 4 times and now started getting coil burning smell when I turn it on. It should go to trash now.. Please don't buy this item</td>\n",
       "      <td>1</td>\n",
       "      <td>1.0</td>\n",
       "      <td>N</td>\n",
       "      <td>0.5574</td>\n",
       "      <td>38</td>\n",
       "      <td>1</td>\n",
       "    </tr>\n",
       "    <tr>\n",
       "      <td>338</td>\n",
       "      <td>Problems using with uk adaptor. One Star</td>\n",
       "      <td>1</td>\n",
       "      <td>NaN</td>\n",
       "      <td>N</td>\n",
       "      <td>-0.4019</td>\n",
       "      <td>7</td>\n",
       "      <td>0</td>\n",
       "    </tr>\n",
       "    <tr>\n",
       "      <td>368</td>\n",
       "      <td>This item is pink and it is not clearly advertised as such.. One Star</td>\n",
       "      <td>1</td>\n",
       "      <td>0.0</td>\n",
       "      <td>N</td>\n",
       "      <td>-0.3089</td>\n",
       "      <td>14</td>\n",
       "      <td>0</td>\n",
       "    </tr>\n",
       "  </tbody>\n",
       "</table>\n",
       "</div>"
      ],
      "text/plain": [
       "                                                                                                                                                                                                                                                                                                                                                                                                                                                                                                                                                                                            text  \\\n",
       "80   Have had it for about 4 years and thought it did a good enough job.  I use it on  medium heat/blow settings and always clean the air intake screen at the first sign of lint.  However, it has recently been throwing out sparks and some actual flames.  At first it was a high pitched screeching noise, then popping, then sparks, now FLAMES!  It is in the trash and I will be looking for a better dryer.  Funny that my mother has had the same dryer for over 15 years, but this modern &#34;high tech&#34; stuff is just mass produced junk!. Dangerous, shoots SPARKS and FLAMES!   \n",
       "100  Over heated in 2 minute! We had to return it and had to pay bubble rap to sent it back to Amazon. Good luck if you want to order this through online.. Overheated in 2 minutes.                                                                                                                                                                                                                                                                                                                                                                                                               \n",
       "282  Please don't buy this. I used this for just 3 or 4 times and now started getting coil burning smell when I turn it on. It should go to trash now.. Please don't buy this item                                                                                                                                                                                                                                                                                                                                                                                                                 \n",
       "338  Problems using with uk adaptor. One Star                                                                                                                                                                                                                                                                                                                                                                                                                                                                                                                                                      \n",
       "368  This item is pink and it is not clearly advertised as such.. One Star                                                                                                                                                                                                                                                                                                                                                                                                                                                                                                                         \n",
       "\n",
       "     rating  recommend vine  sentiment  length  target_rec  \n",
       "80   1       0.5        N    0.3455     109     0           \n",
       "100  1      NaN         N    0.7777     37      0           \n",
       "282  1       1.0        N    0.5574     38      1           \n",
       "338  1      NaN         N   -0.4019     7       0           \n",
       "368  1       0.0        N   -0.3089     14      0           "
      ]
     },
     "execution_count": 16,
     "metadata": {},
     "output_type": "execute_result"
    }
   ],
   "source": [
    "# Feature 1 : Sentiment compound value\n",
    "def sentiment(x):\n",
    "    score = sid.polarity_scores(x)\n",
    "    return score['compound']\n",
    "    \n",
    "#sentiment(happy)\n",
    "comments['sentiment']= comments['text'].apply(lambda x : sentiment(x))\n",
    "\n",
    "# Feature 2 : Length of string\n",
    "\n",
    "comments['length'] = comments['text'].apply(lambda x : len(re.split('\\W+',x)))\n",
    "comments[comments['rating']==5].head(10)\n",
    "\n",
    "# before we proceed - we need to convert all true >> 1 and false as 0\n",
    "def convert(x):\n",
    "    \n",
    "    if x==True:\n",
    "        return 1\n",
    "    else :\n",
    "        return 0\n",
    "    \n",
    "print(convert(\"False\"))\n",
    "\n",
    "comments['target_rec'] = comments['recommend'].apply(lambda x : convert(x))\n",
    "comments.head(5)\n",
    "\n",
    "comments[comments['rating']==1].head(5)\n"
   ]
  },
  {
   "cell_type": "code",
   "execution_count": 17,
   "metadata": {},
   "outputs": [
    {
     "data": {
      "text/plain": [
       "[(0.013444908861393967, 'proair'),\n",
       " (0.009666167408930611, 'wtih'),\n",
       " (0.009139098324525936, 'drybr'),\n",
       " (0.009024204624359228, '1'),\n",
       " (0.008940957318066194, 'length'),\n",
       " (0.008765456668053591, 'ereal'),\n",
       " (0.008748107470881582, 'leakag'),\n",
       " (0.008025350057453296, 'placement'),\n",
       " (0.007640325527989937, 'cheaper'),\n",
       " (0.007262370959015938, 'sadli')]"
      ]
     },
     "execution_count": 17,
     "metadata": {},
     "output_type": "execute_result"
    }
   ],
   "source": [
    "from sklearn.ensemble import RandomForestClassifier\n",
    "from sklearn.metrics import precision_recall_fscore_support as score\n",
    "from sklearn.model_selection import train_test_split\n",
    "\n",
    "# need to reset index of the comments column to match with textfeatures\n",
    "new_sentiment = comments.sentiment.reset_index()['sentiment']\n",
    "new_length = comments.length.reset_index()['length']\n",
    "\n",
    "x_features = pd.concat([new_sentiment,new_length,\n",
    "                        pd.DataFrame(textfeatures.toarray(),\n",
    "                        columns=vectstem.vocabulary_)],axis=1)\n",
    "x_train, x_test, y_train, y_test = train_test_split(x_features,comments.target_rec,test_size=0.2)\n",
    "\n",
    "rf = RandomForestClassifier(n_jobs=-1,n_estimators=50,max_depth=90)\n",
    "rfmodel=rf.fit(x_train,y_train)\n",
    "\n",
    "y_pred = rfmodel.predict(x_test)\n",
    "sorted(zip(rfmodel.feature_importances_,x_train.columns),reverse=True)[0:10]"
   ]
  },
  {
   "cell_type": "code",
   "execution_count": 18,
   "metadata": {},
   "outputs": [
    {
     "name": "stdout",
     "output_type": "stream",
     "text": [
      "Precision: 0.0 / Recall :0.0 / Accuracy 0.898 \n"
     ]
    },
    {
     "name": "stderr",
     "output_type": "stream",
     "text": [
      "C:\\Anaconda3\\lib\\site-packages\\sklearn\\metrics\\classification.py:1437: UndefinedMetricWarning: Precision and F-score are ill-defined and being set to 0.0 due to no predicted samples.\n",
      "  'precision', 'predicted', average, warn_for)\n"
     ]
    }
   ],
   "source": [
    "precision, recall, fscore , support = score(y_test,y_pred,average='binary')\n",
    "print('Precision: {} / Recall :{} / Accuracy {} '.format(round(precision,3),\n",
    "                                                         round(recall,3),\n",
    "                                                         round((y_pred==y_test).sum()/len(y_test),3)))"
   ]
  },
  {
   "cell_type": "code",
   "execution_count": null,
   "metadata": {
    "collapsed": true
   },
   "outputs": [],
   "source": []
  }
 ],
 "metadata": {
  "kernelspec": {
   "display_name": "Python 3",
   "language": "python",
   "name": "python3"
  },
  "language_info": {
   "codemirror_mode": {
    "name": "ipython",
    "version": 3
   },
   "file_extension": ".py",
   "mimetype": "text/x-python",
   "name": "python",
   "nbconvert_exporter": "python",
   "pygments_lexer": "ipython3",
   "version": "3.6.2"
  }
 },
 "nbformat": 4,
 "nbformat_minor": 2
}
