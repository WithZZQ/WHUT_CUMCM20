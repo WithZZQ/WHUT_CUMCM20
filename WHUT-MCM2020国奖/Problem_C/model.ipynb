{
 "cells": [
  {
   "cell_type": "code",
   "execution_count": 1,
   "metadata": {
    "collapsed": true
   },
   "outputs": [],
   "source": [
    "# Importing libraries\n",
    "import warnings\n",
    "warnings.filterwarnings('ignore')\n",
    "import sqlite3\n",
    "import pandas as pd\n",
    "import numpy as np\n",
    "from time import time\n",
    "from nltk.corpus import stopwords\n",
    "import nltk\n",
    "import re\n",
    "from sklearn.feature_extraction.text import CountVectorizer\n",
    "from sklearn.preprocessing import StandardScaler\n",
    "from sklearn.manifold import TSNE\n",
    "from sklearn.feature_extraction.text import TfidfTransformer\n",
    "from sklearn.feature_extraction.text import TfidfVectorizer\n",
    "import seaborn as sb\n",
    "import matplotlib.pyplot as plt\n",
    "import numpy as np\n",
    "import gensim"
   ]
  },
  {
   "cell_type": "code",
   "execution_count": 2,
   "metadata": {},
   "outputs": [
    {
     "data": {
      "text/html": [
       "<div>\n",
       "<style scoped>\n",
       "    .dataframe tbody tr th:only-of-type {\n",
       "        vertical-align: middle;\n",
       "    }\n",
       "\n",
       "    .dataframe tbody tr th {\n",
       "        vertical-align: top;\n",
       "    }\n",
       "\n",
       "    .dataframe thead th {\n",
       "        text-align: right;\n",
       "    }\n",
       "</style>\n",
       "<table border=\"1\" class=\"dataframe\">\n",
       "  <thead>\n",
       "    <tr style=\"text-align: right;\">\n",
       "      <th></th>\n",
       "      <th>marketplace</th>\n",
       "      <th>customer_id</th>\n",
       "      <th>review_id</th>\n",
       "      <th>product_id</th>\n",
       "      <th>product_parent</th>\n",
       "      <th>product_title</th>\n",
       "      <th>product_category</th>\n",
       "      <th>star_rating</th>\n",
       "      <th>helpful_votes</th>\n",
       "      <th>total_votes</th>\n",
       "      <th>vine</th>\n",
       "      <th>verified_purchase</th>\n",
       "      <th>review_headline</th>\n",
       "      <th>review_body</th>\n",
       "      <th>review_date</th>\n",
       "    </tr>\n",
       "  </thead>\n",
       "  <tbody>\n",
       "    <tr>\n",
       "      <td>0</td>\n",
       "      <td>US</td>\n",
       "      <td>21879631</td>\n",
       "      <td>RY52KZABZK8QF</td>\n",
       "      <td>B0052G14E8</td>\n",
       "      <td>423421857</td>\n",
       "      <td>danby 0.7 cu.ft. countertop microwave</td>\n",
       "      <td>Major Appliances</td>\n",
       "      <td>1</td>\n",
       "      <td>0</td>\n",
       "      <td>0</td>\n",
       "      <td>N</td>\n",
       "      <td>Y</td>\n",
       "      <td>Do not recommend it. go use your money for som...</td>\n",
       "      <td>3 of the buttons stopped working after a month...</td>\n",
       "      <td>8/31/2015</td>\n",
       "    </tr>\n",
       "    <tr>\n",
       "      <td>1</td>\n",
       "      <td>US</td>\n",
       "      <td>14964566</td>\n",
       "      <td>R3GCOEV4HYZG2I</td>\n",
       "      <td>B0055UBB4O</td>\n",
       "      <td>423421857</td>\n",
       "      <td>danby 0.7 cu.ft. countertop microwave</td>\n",
       "      <td>Major Appliances</td>\n",
       "      <td>5</td>\n",
       "      <td>0</td>\n",
       "      <td>0</td>\n",
       "      <td>N</td>\n",
       "      <td>Y</td>\n",
       "      <td>Looks as good as the picture</td>\n",
       "      <td>Didn't use it long so I can't attest to that b...</td>\n",
       "      <td>8/31/2015</td>\n",
       "    </tr>\n",
       "    <tr>\n",
       "      <td>2</td>\n",
       "      <td>US</td>\n",
       "      <td>13230389</td>\n",
       "      <td>R1V2OPPNL0QGCE</td>\n",
       "      <td>B0052G14E8</td>\n",
       "      <td>423421857</td>\n",
       "      <td>danby 0.7 cu.ft. countertop microwave</td>\n",
       "      <td>Major Appliances</td>\n",
       "      <td>4</td>\n",
       "      <td>0</td>\n",
       "      <td>0</td>\n",
       "      <td>N</td>\n",
       "      <td>Y</td>\n",
       "      <td>Four Stars</td>\n",
       "      <td>Very nice microwave, great price</td>\n",
       "      <td>8/31/2015</td>\n",
       "    </tr>\n",
       "    <tr>\n",
       "      <td>3</td>\n",
       "      <td>US</td>\n",
       "      <td>43655888</td>\n",
       "      <td>R9Q0QDTLKV567</td>\n",
       "      <td>B004ZU09QQ</td>\n",
       "      <td>423421857</td>\n",
       "      <td>danby 0.7 cu.ft. countertop microwave</td>\n",
       "      <td>Major Appliances</td>\n",
       "      <td>3</td>\n",
       "      <td>0</td>\n",
       "      <td>1</td>\n",
       "      <td>N</td>\n",
       "      <td>Y</td>\n",
       "      <td>quiet</td>\n",
       "      <td>Quiet, but does not seem like 1000 watt power.</td>\n",
       "      <td>8/31/2015</td>\n",
       "    </tr>\n",
       "    <tr>\n",
       "      <td>4</td>\n",
       "      <td>US</td>\n",
       "      <td>117794</td>\n",
       "      <td>R3DL7HYC3QTWNI</td>\n",
       "      <td>B005GSZB7I</td>\n",
       "      <td>827502283</td>\n",
       "      <td>whirlpool stainless look countertop microwave,...</td>\n",
       "      <td>Major Appliances</td>\n",
       "      <td>4</td>\n",
       "      <td>0</td>\n",
       "      <td>0</td>\n",
       "      <td>N</td>\n",
       "      <td>Y</td>\n",
       "      <td>Four Stars</td>\n",
       "      <td>It's bigger than I thought.</td>\n",
       "      <td>8/31/2015</td>\n",
       "    </tr>\n",
       "  </tbody>\n",
       "</table>\n",
       "</div>"
      ],
      "text/plain": [
       "  marketplace  customer_id       review_id  product_id  product_parent  \\\n",
       "0          US     21879631   RY52KZABZK8QF  B0052G14E8       423421857   \n",
       "1          US     14964566  R3GCOEV4HYZG2I  B0055UBB4O       423421857   \n",
       "2          US     13230389  R1V2OPPNL0QGCE  B0052G14E8       423421857   \n",
       "3          US     43655888   R9Q0QDTLKV567  B004ZU09QQ       423421857   \n",
       "4          US       117794  R3DL7HYC3QTWNI  B005GSZB7I       827502283   \n",
       "\n",
       "                                       product_title  product_category  \\\n",
       "0              danby 0.7 cu.ft. countertop microwave  Major Appliances   \n",
       "1              danby 0.7 cu.ft. countertop microwave  Major Appliances   \n",
       "2              danby 0.7 cu.ft. countertop microwave  Major Appliances   \n",
       "3              danby 0.7 cu.ft. countertop microwave  Major Appliances   \n",
       "4  whirlpool stainless look countertop microwave,...  Major Appliances   \n",
       "\n",
       "   star_rating  helpful_votes  total_votes vine verified_purchase  \\\n",
       "0            1              0            0    N                 Y   \n",
       "1            5              0            0    N                 Y   \n",
       "2            4              0            0    N                 Y   \n",
       "3            3              0            1    N                 Y   \n",
       "4            4              0            0    N                 Y   \n",
       "\n",
       "                                     review_headline  \\\n",
       "0  Do not recommend it. go use your money for som...   \n",
       "1                       Looks as good as the picture   \n",
       "2                                         Four Stars   \n",
       "3                                              quiet   \n",
       "4                                         Four Stars   \n",
       "\n",
       "                                         review_body review_date  \n",
       "0  3 of the buttons stopped working after a month...   8/31/2015  \n",
       "1  Didn't use it long so I can't attest to that b...   8/31/2015  \n",
       "2                   Very nice microwave, great price   8/31/2015  \n",
       "3     Quiet, but does not seem like 1000 watt power.   8/31/2015  \n",
       "4                        It's bigger than I thought.   8/31/2015  "
      ]
     },
     "execution_count": 2,
     "metadata": {},
     "output_type": "execute_result"
    }
   ],
   "source": [
    "#数据导入\n",
    "file_path = './Problem_C_Data/microwave.tsv'\n",
    "df = pd.read_csv(file_path, sep='\\t', header=0)\n",
    "df.head()"
   ]
  },
  {
   "cell_type": "code",
   "execution_count": 3,
   "metadata": {},
   "outputs": [
    {
     "data": {
      "text/html": [
       "<div>\n",
       "<style scoped>\n",
       "    .dataframe tbody tr th:only-of-type {\n",
       "        vertical-align: middle;\n",
       "    }\n",
       "\n",
       "    .dataframe tbody tr th {\n",
       "        vertical-align: top;\n",
       "    }\n",
       "\n",
       "    .dataframe thead th {\n",
       "        text-align: right;\n",
       "    }\n",
       "</style>\n",
       "<table border=\"1\" class=\"dataframe\">\n",
       "  <thead>\n",
       "    <tr style=\"text-align: right;\">\n",
       "      <th></th>\n",
       "      <th>marketplace</th>\n",
       "      <th>customer_id</th>\n",
       "      <th>review_id</th>\n",
       "      <th>product_id</th>\n",
       "      <th>product_parent</th>\n",
       "      <th>product_title</th>\n",
       "      <th>product_category</th>\n",
       "      <th>star_rating</th>\n",
       "      <th>helpful_votes</th>\n",
       "      <th>total_votes</th>\n",
       "      <th>vine</th>\n",
       "      <th>verified_purchase</th>\n",
       "      <th>review_headline</th>\n",
       "      <th>review_body</th>\n",
       "      <th>review_date</th>\n",
       "      <th>Score</th>\n",
       "    </tr>\n",
       "  </thead>\n",
       "  <tbody>\n",
       "    <tr>\n",
       "      <td>0</td>\n",
       "      <td>US</td>\n",
       "      <td>21879631</td>\n",
       "      <td>RY52KZABZK8QF</td>\n",
       "      <td>B0052G14E8</td>\n",
       "      <td>423421857</td>\n",
       "      <td>danby 0.7 cu.ft. countertop microwave</td>\n",
       "      <td>Major Appliances</td>\n",
       "      <td>1</td>\n",
       "      <td>0</td>\n",
       "      <td>0</td>\n",
       "      <td>N</td>\n",
       "      <td>Y</td>\n",
       "      <td>Do not recommend it. go use your money for som...</td>\n",
       "      <td>3 of the buttons stopped working after a month...</td>\n",
       "      <td>8/31/2015</td>\n",
       "      <td>negative</td>\n",
       "    </tr>\n",
       "    <tr>\n",
       "      <td>1</td>\n",
       "      <td>US</td>\n",
       "      <td>14964566</td>\n",
       "      <td>R3GCOEV4HYZG2I</td>\n",
       "      <td>B0055UBB4O</td>\n",
       "      <td>423421857</td>\n",
       "      <td>danby 0.7 cu.ft. countertop microwave</td>\n",
       "      <td>Major Appliances</td>\n",
       "      <td>5</td>\n",
       "      <td>0</td>\n",
       "      <td>0</td>\n",
       "      <td>N</td>\n",
       "      <td>Y</td>\n",
       "      <td>Looks as good as the picture</td>\n",
       "      <td>Didn't use it long so I can't attest to that b...</td>\n",
       "      <td>8/31/2015</td>\n",
       "      <td>positive</td>\n",
       "    </tr>\n",
       "    <tr>\n",
       "      <td>2</td>\n",
       "      <td>US</td>\n",
       "      <td>13230389</td>\n",
       "      <td>R1V2OPPNL0QGCE</td>\n",
       "      <td>B0052G14E8</td>\n",
       "      <td>423421857</td>\n",
       "      <td>danby 0.7 cu.ft. countertop microwave</td>\n",
       "      <td>Major Appliances</td>\n",
       "      <td>4</td>\n",
       "      <td>0</td>\n",
       "      <td>0</td>\n",
       "      <td>N</td>\n",
       "      <td>Y</td>\n",
       "      <td>Four Stars</td>\n",
       "      <td>Very nice microwave, great price</td>\n",
       "      <td>8/31/2015</td>\n",
       "      <td>positive</td>\n",
       "    </tr>\n",
       "    <tr>\n",
       "      <td>4</td>\n",
       "      <td>US</td>\n",
       "      <td>117794</td>\n",
       "      <td>R3DL7HYC3QTWNI</td>\n",
       "      <td>B005GSZB7I</td>\n",
       "      <td>827502283</td>\n",
       "      <td>whirlpool stainless look countertop microwave,...</td>\n",
       "      <td>Major Appliances</td>\n",
       "      <td>4</td>\n",
       "      <td>0</td>\n",
       "      <td>0</td>\n",
       "      <td>N</td>\n",
       "      <td>Y</td>\n",
       "      <td>Four Stars</td>\n",
       "      <td>It's bigger than I thought.</td>\n",
       "      <td>8/31/2015</td>\n",
       "      <td>positive</td>\n",
       "    </tr>\n",
       "    <tr>\n",
       "      <td>5</td>\n",
       "      <td>US</td>\n",
       "      <td>16018452</td>\n",
       "      <td>R3M88678ZYC6WI</td>\n",
       "      <td>B004ZU09QQ</td>\n",
       "      <td>423421857</td>\n",
       "      <td>danby 0.7 cu.ft. countertop microwave</td>\n",
       "      <td>Major Appliances</td>\n",
       "      <td>5</td>\n",
       "      <td>0</td>\n",
       "      <td>0</td>\n",
       "      <td>N</td>\n",
       "      <td>Y</td>\n",
       "      <td>Great Microwave</td>\n",
       "      <td>Really love this microwave. Has the one touch ...</td>\n",
       "      <td>8/31/2015</td>\n",
       "      <td>positive</td>\n",
       "    </tr>\n",
       "  </tbody>\n",
       "</table>\n",
       "</div>"
      ],
      "text/plain": [
       "  marketplace  customer_id       review_id  product_id  product_parent  \\\n",
       "0          US     21879631   RY52KZABZK8QF  B0052G14E8       423421857   \n",
       "1          US     14964566  R3GCOEV4HYZG2I  B0055UBB4O       423421857   \n",
       "2          US     13230389  R1V2OPPNL0QGCE  B0052G14E8       423421857   \n",
       "4          US       117794  R3DL7HYC3QTWNI  B005GSZB7I       827502283   \n",
       "5          US     16018452  R3M88678ZYC6WI  B004ZU09QQ       423421857   \n",
       "\n",
       "                                       product_title  product_category  \\\n",
       "0              danby 0.7 cu.ft. countertop microwave  Major Appliances   \n",
       "1              danby 0.7 cu.ft. countertop microwave  Major Appliances   \n",
       "2              danby 0.7 cu.ft. countertop microwave  Major Appliances   \n",
       "4  whirlpool stainless look countertop microwave,...  Major Appliances   \n",
       "5              danby 0.7 cu.ft. countertop microwave  Major Appliances   \n",
       "\n",
       "   star_rating  helpful_votes  total_votes vine verified_purchase  \\\n",
       "0            1              0            0    N                 Y   \n",
       "1            5              0            0    N                 Y   \n",
       "2            4              0            0    N                 Y   \n",
       "4            4              0            0    N                 Y   \n",
       "5            5              0            0    N                 Y   \n",
       "\n",
       "                                     review_headline  \\\n",
       "0  Do not recommend it. go use your money for som...   \n",
       "1                       Looks as good as the picture   \n",
       "2                                         Four Stars   \n",
       "4                                         Four Stars   \n",
       "5                                    Great Microwave   \n",
       "\n",
       "                                         review_body review_date     Score  \n",
       "0  3 of the buttons stopped working after a month...   8/31/2015  negative  \n",
       "1  Didn't use it long so I can't attest to that b...   8/31/2015  positive  \n",
       "2                   Very nice microwave, great price   8/31/2015  positive  \n",
       "4                        It's bigger than I thought.   8/31/2015  positive  \n",
       "5  Really love this microwave. Has the one touch ...   8/31/2015  positive  "
      ]
     },
     "execution_count": 3,
     "metadata": {},
     "output_type": "execute_result"
    }
   ],
   "source": [
    "#保留不是3的评论\n",
    "filtered_data = df[df['star_rating'] != 3]\n",
    "def partition(x):\n",
    "    if x>3:\n",
    "        return 'positive'\n",
    "    return 'negative'\n",
    "\n",
    "actual_score = filtered_data['star_rating']\n",
    "positiveNegative = actual_score.map(partition)\n",
    "filtered_data['Score'] = positiveNegative\n",
    "filtered_data.head()"
   ]
  },
  {
   "cell_type": "code",
   "execution_count": 4,
   "metadata": {},
   "outputs": [
    {
     "data": {
      "image/png": "[encoded data removed]",
      "text/plain": [
       "<Figure size 943.75x216 with 1 Axes>"
      ]
     },
     "metadata": {},
     "output_type": "display_data"
    }
   ],
   "source": [
    "import seaborn as sns\n",
    "\n",
    "for i in ['star_rating']:\n",
    "    sns.FacetGrid(data = filtered_data, hue='Score', aspect=4).map(sns.distplot, i).add_legend(); plt.show()"
   ]
  },
  {
   "cell_type": "code",
   "execution_count": 5,
   "metadata": {},
   "outputs": [
    {
     "data": {
      "text/plain": [
       "(1481, 16)"
      ]
     },
     "metadata": {},
     "output_type": "display_data"
    }
   ],
   "source": [
    "# Sorting data points according to the 'ProductId'\n",
    "sorted_data = filtered_data.sort_values('product_id', axis=0, ascending=True, inplace=False, kind='quicksort', na_position='last')\n",
    "\n",
    "# Eliminating the duplicate data points based on: 'UserId', 'ProfileName', 'Time', 'Summary'\n",
    "final = sorted_data.drop_duplicates(subset={'review_id', 'product_title', 'review_date', 'review_body'}, keep='first', inplace=False)\n",
    "\n",
    "# Eliminating the row where 'HelpfulnessDenominator' is greater than 'HelpfulnessNumerator' as these are the wrong entry\n",
    "final = final[final['total_votes'] >= final['helpful_votes']]\n",
    "\n",
    "# Getting shape of final data frame\n",
    "display(final.shape)"
   ]
  },
  {
   "cell_type": "code",
   "execution_count": 6,
   "metadata": {},
   "outputs": [
    {
     "name": "stderr",
     "output_type": "stream",
     "text": [
      "[nltk_data] Error loading stopwords: <urlopen error [WinError 10054]\n",
      "[nltk_data]     远程主机强迫关闭了一个现有的连接。>\n"
     ]
    },
    {
     "data": {
      "text/plain": [
       "False"
      ]
     },
     "execution_count": 6,
     "metadata": {},
     "output_type": "execute_result"
    }
   ],
   "source": [
    "nltk.download(\"stopwords\")"
   ]
  },
  {
   "cell_type": "code",
   "execution_count": 7,
   "metadata": {},
   "outputs": [
    {
     "name": "stdout",
     "output_type": "stream",
     "text": [
      "(1481, 17)\n",
      "Wall time: 1.48 s\n"
     ]
    }
   ],
   "source": [
    "%%time\n",
    "\n",
    "# Creating the set of stopwords\n",
    "stop = set(stopwords.words('english'))\n",
    "\n",
    "# For stemming purpose\n",
    "snow = nltk.stem.SnowballStemmer('english')\n",
    "\n",
    "# Defining function to clean html tags\n",
    "def cleanhtml(sentence):\n",
    "    cleaner = re.compile('<.*>')\n",
    "    cleantext = re.sub(cleaner, ' ', sentence)\n",
    "    return cleantext\n",
    "\n",
    "# Defining function to remove special symbols\n",
    "def cleanpunc(sentence):\n",
    "    cleaned = re.sub(r'[?|.|!|*|@|#|\\'|\"|,|)|(|\\|/]', r'', sentence)\n",
    "    return cleaned\n",
    "\n",
    "\n",
    "# Important steps to clean the text data. Please trace it out carefully\n",
    "i = 0\n",
    "str1 = ''\n",
    "all_positive_words = []\n",
    "all_negative_words = []\n",
    "final_string = []\n",
    "s=''\n",
    "for sent in final['review_headline'].values+final['review_body'].values:\n",
    "    filtered_sentence = []\n",
    "    sent = cleanhtml(sent)\n",
    "    for w in sent.split():\n",
    "        for cleaned_words in cleanpunc(w).split():\n",
    "            if ((cleaned_words.isalpha()) & (len(cleaned_words)>2)):\n",
    "                if (cleaned_words.lower() not in stop):\n",
    "                    s = (snow.stem(cleaned_words.lower())).encode('utf-8')\n",
    "                    filtered_sentence.append(s)\n",
    "                    if (final['Score'].values)[i] == 'positive':\n",
    "                        all_positive_words.append(s)\n",
    "                    if (final['Score'].values)[i] == 'negative':\n",
    "                        all_negative_words.append(s)\n",
    "                else:\n",
    "                    continue\n",
    "            else:\n",
    "                continue\n",
    "    str1 = b\" \".join(filtered_sentence)\n",
    "    final_string.append(str1)\n",
    "    i += 1\n",
    "    \n",
    "# Adding new column into dataframe to store cleaned text\n",
    "final['CleanedText'] = final_string\n",
    "final['CleanedText'] = final['CleanedText'].str.decode('utf-8')\n",
    "\n",
    "\n",
    "# Getting shape of new datset\n",
    "print(final.shape)"
   ]
  },
  {
   "cell_type": "code",
   "execution_count": 8,
   "metadata": {},
   "outputs": [
    {
     "data": {
      "text/html": [
       "<div>\n",
       "<style scoped>\n",
       "    .dataframe tbody tr th:only-of-type {\n",
       "        vertical-align: middle;\n",
       "    }\n",
       "\n",
       "    .dataframe tbody tr th {\n",
       "        vertical-align: top;\n",
       "    }\n",
       "\n",
       "    .dataframe thead th {\n",
       "        text-align: right;\n",
       "    }\n",
       "</style>\n",
       "<table border=\"1\" class=\"dataframe\">\n",
       "  <thead>\n",
       "    <tr style=\"text-align: right;\">\n",
       "      <th></th>\n",
       "      <th>marketplace</th>\n",
       "      <th>customer_id</th>\n",
       "      <th>review_id</th>\n",
       "      <th>product_id</th>\n",
       "      <th>product_parent</th>\n",
       "      <th>product_title</th>\n",
       "      <th>product_category</th>\n",
       "      <th>star_rating</th>\n",
       "      <th>helpful_votes</th>\n",
       "      <th>total_votes</th>\n",
       "      <th>vine</th>\n",
       "      <th>verified_purchase</th>\n",
       "      <th>review_headline</th>\n",
       "      <th>review_body</th>\n",
       "      <th>review_date</th>\n",
       "      <th>Score</th>\n",
       "      <th>CleanedText</th>\n",
       "    </tr>\n",
       "  </thead>\n",
       "  <tbody>\n",
       "    <tr>\n",
       "      <td>1601</td>\n",
       "      <td>US</td>\n",
       "      <td>12353377</td>\n",
       "      <td>R1X53E4WYB0D8O</td>\n",
       "      <td>B00009V3WS</td>\n",
       "      <td>459626087</td>\n",
       "      <td>sharp 1.1-cubic-foot 850-watt over-the-range c...</td>\n",
       "      <td>Major Appliances</td>\n",
       "      <td>4</td>\n",
       "      <td>6</td>\n",
       "      <td>8</td>\n",
       "      <td>N</td>\n",
       "      <td>N</td>\n",
       "      <td>Over the Range Sharp Convection/Microwave oven</td>\n",
       "      <td>I love it.  The only problem is the popcorn bu...</td>\n",
       "      <td>10/9/2005</td>\n",
       "      <td>positive</td>\n",
       "      <td>rang sharp convectionmicrowav oveni love probl...</td>\n",
       "    </tr>\n",
       "    <tr>\n",
       "      <td>1563</td>\n",
       "      <td>US</td>\n",
       "      <td>51558013</td>\n",
       "      <td>R2WXEFZ3C0R8WA</td>\n",
       "      <td>B00009V3WS</td>\n",
       "      <td>459626087</td>\n",
       "      <td>sharp 1.1-cubic-foot 850-watt over-the-range c...</td>\n",
       "      <td>Major Appliances</td>\n",
       "      <td>2</td>\n",
       "      <td>10</td>\n",
       "      <td>11</td>\n",
       "      <td>N</td>\n",
       "      <td>N</td>\n",
       "      <td>Beware the Bummer Oven</td>\n",
       "      <td>I had to buy this model microwave because my k...</td>\n",
       "      <td>10/12/2008</td>\n",
       "      <td>negative</td>\n",
       "      <td>bewar bummer oveni buy model microwav kitchen ...</td>\n",
       "    </tr>\n",
       "    <tr>\n",
       "      <td>1300</td>\n",
       "      <td>US</td>\n",
       "      <td>51994627</td>\n",
       "      <td>R35CPZSQEQ1QJW</td>\n",
       "      <td>B00009V3WT</td>\n",
       "      <td>459626087</td>\n",
       "      <td>sharp 1.1-cubic-foot 850-watt over-the-range c...</td>\n",
       "      <td>Major Appliances</td>\n",
       "      <td>4</td>\n",
       "      <td>6</td>\n",
       "      <td>6</td>\n",
       "      <td>N</td>\n",
       "      <td>Y</td>\n",
       "      <td>The best available</td>\n",
       "      <td>When our old Sharp &amp;#34;over the range&amp;#34; st...</td>\n",
       "      <td>12/30/2012</td>\n",
       "      <td>positive</td>\n",
       "      <td>best availablewhen old sharp start die year se...</td>\n",
       "    </tr>\n",
       "  </tbody>\n",
       "</table>\n",
       "</div>"
      ],
      "text/plain": [
       "     marketplace  customer_id       review_id  product_id  product_parent  \\\n",
       "1601          US     12353377  R1X53E4WYB0D8O  B00009V3WS       459626087   \n",
       "1563          US     51558013  R2WXEFZ3C0R8WA  B00009V3WS       459626087   \n",
       "1300          US     51994627  R35CPZSQEQ1QJW  B00009V3WT       459626087   \n",
       "\n",
       "                                          product_title  product_category  \\\n",
       "1601  sharp 1.1-cubic-foot 850-watt over-the-range c...  Major Appliances   \n",
       "1563  sharp 1.1-cubic-foot 850-watt over-the-range c...  Major Appliances   \n",
       "1300  sharp 1.1-cubic-foot 850-watt over-the-range c...  Major Appliances   \n",
       "\n",
       "      star_rating  helpful_votes  total_votes vine verified_purchase  \\\n",
       "1601            4              6            8    N                 N   \n",
       "1563            2             10           11    N                 N   \n",
       "1300            4              6            6    N                 Y   \n",
       "\n",
       "                                     review_headline  \\\n",
       "1601  Over the Range Sharp Convection/Microwave oven   \n",
       "1563                          Beware the Bummer Oven   \n",
       "1300                              The best available   \n",
       "\n",
       "                                            review_body review_date     Score  \\\n",
       "1601  I love it.  The only problem is the popcorn bu...   10/9/2005  positive   \n",
       "1563  I had to buy this model microwave because my k...  10/12/2008  negative   \n",
       "1300  When our old Sharp &#34;over the range&#34; st...  12/30/2012  positive   \n",
       "\n",
       "                                            CleanedText  \n",
       "1601  rang sharp convectionmicrowav oveni love probl...  \n",
       "1563  bewar bummer oveni buy model microwav kitchen ...  \n",
       "1300  best availablewhen old sharp start die year se...  "
      ]
     },
     "execution_count": 8,
     "metadata": {},
     "output_type": "execute_result"
    }
   ],
   "source": [
    "final.head(3)"
   ]
  },
  {
   "cell_type": "markdown",
   "metadata": {},
   "source": [
    "We can see that the new dataset is containing new column with cleaned text which will be useful for next procedure."
   ]
  },
  {
   "cell_type": "code",
   "execution_count": 9,
   "metadata": {},
   "outputs": [
    {
     "data": {
      "text/plain": [
       "positive    967\n",
       "negative    514\n",
       "Name: Score, dtype: int64"
      ]
     },
     "metadata": {},
     "output_type": "display_data"
    }
   ],
   "source": [
    "# Getting the number of data points in each class: positive or negative\n",
    "display(final['Score'].value_counts())\n",
    "total_points = final\n",
    "# It can be observed that the data set is imbalanced.\n",
    "# There are much more data points belonging to positive class than negative."
   ]
  },
  {
   "cell_type": "markdown",
   "metadata": {},
   "source": [
    "### BoW"
   ]
  },
  {
   "cell_type": "code",
   "execution_count": 10,
   "metadata": {},
   "outputs": [
    {
     "name": "stdout",
     "output_type": "stream",
     "text": [
      "(1481, 4574) (1481,)\n",
      "Wall time: 73.8 ms\n"
     ]
    }
   ],
   "source": [
    "%%time\n",
    "# Initializing vectorizer for bigram\n",
    "count_vect = CountVectorizer(ngram_range=(1,1))\n",
    "\n",
    "# Initializing standard scaler\n",
    "std_scaler = StandardScaler(with_mean=False)\n",
    "\n",
    "# Creating count vectors and converting into dense representation\n",
    "sample_points = total_points['CleanedText']\n",
    "sample_points = count_vect.fit_transform(sample_points)\n",
    "sample_points = std_scaler.fit_transform(sample_points)\n",
    "sample_points = sample_points.todense()\n",
    "\n",
    "# Storing class label in variable\n",
    "labels = total_points['Score']\n",
    "\n",
    "# Getting shape\n",
    "print(sample_points.shape, labels.shape)"
   ]
  },
  {
   "cell_type": "markdown",
   "metadata": {},
   "source": [
    "### TSNE for Word2Vec"
   ]
  },
  {
   "cell_type": "code",
   "execution_count": 21,
   "metadata": {},
   "outputs": [
    {
     "data": {
      "image/png": "[encoded data removed]",
      "text/plain": [
       "<Figure size 439.75x360 with 1 Axes>"
      ]
     },
     "metadata": {},
     "output_type": "display_data"
    },
    {
     "name": "stdout",
     "output_type": "stream",
     "text": [
      "Wall time: 30.6 s\n"
     ]
    }
   ],
   "source": [
    "%%time\n",
    "from sklearn.manifold import TSNE\n",
    "\n",
    "tsne_data = sample_points\n",
    "tsne_labels = labels\n",
    "\n",
    "# Initializing with most explained variance\n",
    "model = TSNE(n_components=2, random_state=18, perplexity = 13)\n",
    "\n",
    "# Fitting model\n",
    "tsne_data = model.fit_transform(tsne_data)\n",
    "\n",
    "# Adding labels to the data point\n",
    "tsne_data = np.vstack((tsne_data.T, tsne_labels)).T\n",
    "\n",
    "# Creating data frame\n",
    "tsne_df = pd.DataFrame(data=tsne_data, columns=('Dim_1', 'Dim_2', 'label'))\n",
    "\n",
    "# Plotting graph for class labels\n",
    "sb.FacetGrid(tsne_df, hue='label', size=5).map(plt.scatter, 'Dim_1', 'Dim_2').add_legend()\n",
    "plt.title(\"TSNE for Word2Vec with perplexity: 10, n_iter:1500\")\n",
    "plt.xlabel(\"Dim_1\")\n",
    "plt.ylabel(\"Dim_2\")\n",
    "plt.show()\n",
    "# Almost all the negative and positive labels are overlapping to each other which means, even after applying tSNE, class labels are not separated."
   ]
  },
  {
   "cell_type": "markdown",
   "metadata": {},
   "source": [
    "## TF-IDF"
   ]
  },
  {
   "cell_type": "code",
   "execution_count": 12,
   "metadata": {},
   "outputs": [
    {
     "name": "stdout",
     "output_type": "stream",
     "text": [
      "Wall time: 204 ms\n"
     ]
    }
   ],
   "source": [
    "%%time\n",
    "\n",
    "# Initializing tf-idf vectorizer for bigram\n",
    "tfidf_vect = TfidfVectorizer(ngram_range=(1,2))\n",
    "\n",
    "tfidf_data = total_points['CleanedText']\n",
    "tfidf_data = tfidf_vect.fit_transform(tfidf_data)\n",
    "tfidf_data = tfidf_data.todense()\n",
    "\n",
    "tfidf_labels = labels"
   ]
  },
  {
   "cell_type": "code",
   "execution_count": 13,
   "metadata": {},
   "outputs": [
    {
     "name": "stdout",
     "output_type": "stream",
     "text": [
      "(1481, 39038) (1481,)\n"
     ]
    }
   ],
   "source": [
    "print(tfidf_data.shape, tfidf_labels.shape)"
   ]
  },
  {
   "cell_type": "markdown",
   "metadata": {},
   "source": [
    "### TSNE for TF-IDF¶\n"
   ]
  },
  {
   "cell_type": "code",
   "execution_count": 15,
   "metadata": {},
   "outputs": [
    {
     "data": {
      "image/png": "[encoded data removed]",
      "text/plain": [
       "<Figure size 439.75x360 with 1 Axes>"
      ]
     },
     "metadata": {},
     "output_type": "display_data"
    },
    {
     "name": "stdout",
     "output_type": "stream",
     "text": [
      "Wall time: 46.1 s\n"
     ]
    }
   ],
   "source": [
    "%%time\n",
    "from sklearn.manifold import TSNE\n",
    "\n",
    "tsne_data = sample_points\n",
    "tsne_labels = labels\n",
    "\n",
    "# Initializing with most explained variance\n",
    "model = TSNE(n_components=2, random_state=15, perplexity=20, n_iter=2000)\n",
    "\n",
    "# Fitting model\n",
    "tsne_data = model.fit_transform(tsne_data)\n",
    "\n",
    "# Adding labels to the data point\n",
    "tsne_data = np.vstack((tsne_data.T, tsne_labels)).T\n",
    "\n",
    "# Creating data frame\n",
    "tsne_df = pd.DataFrame(data=tsne_data, columns=('Dim_1', 'Dim_2', 'label'))\n",
    "\n",
    "# Plotting graph for class labels\n",
    "sb.FacetGrid(tsne_df, hue='label', size=5).map(plt.scatter, 'Dim_1', 'Dim_2').add_legend()\n",
    "plt.title(\"TSNE for TF-IDF  with Default parameters\")\n",
    "plt.xlabel(\"Dim_1\")\n",
    "plt.ylabel(\"Dim_2\")\n",
    "plt.show()"
   ]
  },
  {
   "cell_type": "code",
   "execution_count": 17,
   "metadata": {},
   "outputs": [
    {
     "data": {
      "image/png": "[encoded data removed]",
      "text/plain": [
       "<Figure size 439.75x360 with 1 Axes>"
      ]
     },
     "metadata": {},
     "output_type": "display_data"
    },
    {
     "name": "stdout",
     "output_type": "stream",
     "text": [
      "Wall time: 2min 46s\n"
     ]
    }
   ],
   "source": [
    "%%time\n",
    "\n",
    "model = TSNE(n_components=2, random_state=15, perplexity=12, n_iter=1700)\n",
    "\n",
    "# Fitting model\n",
    "tsne_data = model.fit_transform(tfidf_data)\n",
    "\n",
    "\n",
    "# Attaching feature and label\n",
    "tsne_data = np.vstack((tsne_data.T, tfidf_labels)).T\n",
    "\n",
    "# Creating data frame\n",
    "tsne_df = pd.DataFrame(data=tsne_data, columns=('Dim_1', 'Dim_2', 'label'))\n",
    "\n",
    "# Plotting graph for class labels\n",
    "sb.FacetGrid(tsne_df, hue='label', size=5).map(plt.scatter, 'Dim_1', 'Dim_2').add_legend()\n",
    "plt.title(\"TSNE for TF-IDF with perplexity: 12, n_iter:1700\")\n",
    "plt.xlabel(\"Dim_1\")\n",
    "plt.ylabel(\"Dim_2\")\n",
    "plt.show()\n"
   ]
  },
  {
   "cell_type": "code",
   "execution_count": 18,
   "metadata": {
    "collapsed": true
   },
   "outputs": [],
   "source": [
    "# Getting text from Review\n",
    "w2v_points = total_points['review_headline']+total_points['review_body']\n",
    "w2v_labels = labels.copy()"
   ]
  },
  {
   "cell_type": "code",
   "execution_count": 19,
   "metadata": {
    "collapsed": true
   },
   "outputs": [],
   "source": [
    "import re\n",
    "def cleanhtml(sentence):\n",
    "    cleantext = re.sub('<.*>', '', sentence)\n",
    "    return cleantext\n",
    "\n",
    "def cleanpunc(sentence):\n",
    "    cleaned = re.sub(r'[?|!|\\'|#|@|.|,|)|(|\\|/]', r'', sentence)\n",
    "    return cleaned\n",
    "\n",
    "# Creating list of sentences\n",
    "sent_list = []\n",
    "for sent in w2v_points:\n",
    "    sentence = []\n",
    "    sent = cleanhtml(sent)\n",
    "    for w in sent.split():\n",
    "        for cleaned_words in cleanpunc(w).split():\n",
    "            if(cleaned_words.isalpha()):\n",
    "                sentence.append(cleaned_words.lower())\n",
    "            else:\n",
    "                continue\n",
    "    sent_list.append(sentence)"
   ]
  },
  {
   "cell_type": "code",
   "execution_count": 20,
   "metadata": {
    "collapsed": true
   },
   "outputs": [],
   "source": [
    "# Initializing model for words occur atleast 5 times\n",
    "w2v_model = gensim.models.Word2Vec(sent_list, min_count=5, size=50, workers=4)\n",
    "\n",
    "# Applying model for word2vec\n",
    "w2v_words = w2v_model[w2v_model.wv.vocab]"
   ]
  },
  {
   "cell_type": "code",
   "execution_count": 21,
   "metadata": {},
   "outputs": [
    {
     "name": "stdout",
     "output_type": "stream",
     "text": [
      "(1619, 50)\n"
     ]
    }
   ],
   "source": [
    "print(w2v_words.shape)\n"
   ]
  },
  {
   "cell_type": "code",
   "execution_count": 22,
   "metadata": {},
   "outputs": [
    {
     "data": {
      "text/plain": [
       "[('nice', 0.9988126158714294),\n",
       " ('very', 0.9983128309249878),\n",
       " ('little', 0.9979847073554993),\n",
       " ('size', 0.9979224801063538),\n",
       " ('looks', 0.9978845119476318),\n",
       " ('far', 0.9978002309799194),\n",
       " ('perfect', 0.9977363348007202),\n",
       " ('price', 0.9976538419723511),\n",
       " ('small', 0.9976066946983337),\n",
       " ('well', 0.9970976114273071)]"
      ]
     },
     "metadata": {},
     "output_type": "display_data"
    }
   ],
   "source": [
    "# Getting 10 similar words\n",
    "display(w2v_model.wv.most_similar(\"good\"))"
   ]
  },
  {
   "cell_type": "markdown",
   "metadata": {},
   "source": [
    "## Avg W2V"
   ]
  },
  {
   "cell_type": "code",
   "execution_count": 23,
   "metadata": {},
   "outputs": [
    {
     "name": "stdout",
     "output_type": "stream",
     "text": [
      "(1481, 200)\n"
     ]
    }
   ],
   "source": [
    "# Producing average word to vec vectors\n",
    "import numpy as np\n",
    "sent_vectors = []\n",
    "for sent in sent_list:\n",
    "    sent_vec = np.zeros(200)\n",
    "    cnt_words = 0\n",
    "    for word in sent:\n",
    "        try:\n",
    "            vec = w2v_model.wv[word]\n",
    "            sent_vec += vec\n",
    "            cnt_words += 1\n",
    "        except:\n",
    "            pass\n",
    "    sent_vec /= cnt_words\n",
    "    sent_vectors.append(sent_vec)\n",
    "sent_vectors = np.nan_to_num(sent_vectors)\n",
    "print(sent_vectors.shape)\n"
   ]
  },
  {
   "cell_type": "markdown",
   "metadata": {},
   "source": [
    "## TSNE for Avg W2V\n",
    "### Default parameters"
   ]
  },
  {
   "cell_type": "code",
   "execution_count": 24,
   "metadata": {},
   "outputs": [
    {
     "data": {
      "image/png": "[encoded data removed]",
      "text/plain": [
       "<Figure size 439.75x360 with 1 Axes>"
      ]
     },
     "metadata": {},
     "output_type": "display_data"
    },
    {
     "name": "stdout",
     "output_type": "stream",
     "text": [
      "Wall time: 42.5 s\n"
     ]
    }
   ],
   "source": [
    "%%time\n",
    "from sklearn.manifold import TSNE\n",
    "\n",
    "tsne_data = sample_points\n",
    "tsne_labels = labels\n",
    "\n",
    "# Initializing with most explained variance\n",
    "model = TSNE(n_components=2, random_state=15)\n",
    "\n",
    "# Fitting model\n",
    "tsne_data = model.fit_transform(tsne_data)\n",
    "\n",
    "# Adding labels to the data point\n",
    "tsne_data = np.vstack((tsne_data.T, tsne_labels)).T\n",
    "\n",
    "# Creating data frame\n",
    "tsne_df = pd.DataFrame(data=tsne_data, columns=('Dim_1', 'Dim_2', 'label'))\n",
    "\n",
    "# Plotting graph for class labels\n",
    "sb.FacetGrid(tsne_df, hue='label', size=5).map(plt.scatter, 'Dim_1', 'Dim_2').add_legend()\n",
    "plt.title(\"Avg-W2V with Default parameters\")\n",
    "plt.xlabel(\"Dim_1\")\n",
    "plt.ylabel(\"Dim_2\")\n",
    "plt.show()"
   ]
  },
  {
   "cell_type": "markdown",
   "metadata": {},
   "source": [
    "## Observation:\n",
    "* Even though t-SNE is very powerful technique to visualize high dimension data but still it's unable to separate the class labels in our dataset.\n",
    "* It accepts dense matrix to execute on it but computationally it is very expensive for much higher dimensional data as in our case.\n",
    "* There were completely overlapping of class labels on each other that means t-SNE failed to separate the class labels.\n",
    "* Changing parameters and getting stable t-SNE model is very important but even after trying out many combinations of parameters. It is found out that it doesn't help in our case of Amazon Fine Food Reviews dataset and some of the parameter adjustment are shown here also."
   ]
  },
  {
   "cell_type": "code",
   "execution_count": 25,
   "metadata": {},
   "outputs": [
    {
     "data": {
      "image/png": "[encoded data removed]",
      "text/plain": [
       "<Figure size 439.75x360 with 1 Axes>"
      ]
     },
     "metadata": {},
     "output_type": "display_data"
    },
    {
     "name": "stdout",
     "output_type": "stream",
     "text": [
      "Wall time: 12.7 s\n"
     ]
    }
   ],
   "source": [
    "%%time\n",
    "\n",
    "model = TSNE(n_components=2, random_state=15)\n",
    "\n",
    "# Fitting model\n",
    "w2v_points = model.fit_transform(sent_vectors)\n",
    "\n",
    "\n",
    "# Attaching feature and label\n",
    "tsne_data = np.vstack((w2v_points.T, w2v_labels)).T\n",
    "\n",
    "# Creating data frame\n",
    "tsne_df = pd.DataFrame(data=tsne_data, columns=('Dim_1', 'Dim_2', 'label'))\n",
    "\n",
    "# Plotting graph for class labels\n",
    "sb.FacetGrid(tsne_df, hue='label', size=5).map(plt.scatter, 'Dim_1', 'Dim_2').add_legend()\n",
    "plt.title(\"TSNE with default parameters\")\n",
    "plt.xlabel(\"Dim_1\")\n",
    "plt.ylabel(\"Dim_2\")\n",
    "plt.show()"
   ]
  },
  {
   "cell_type": "code",
   "execution_count": null,
   "metadata": {
    "collapsed": true
   },
   "outputs": [],
   "source": []
  }
 ],
 "metadata": {
  "kernelspec": {
   "display_name": "Python 3",
   "language": "python",
   "name": "python3"
  },
  "language_info": {
   "codemirror_mode": {
    "name": "ipython",
    "version": 3
   },
   "file_extension": ".py",
   "mimetype": "text/x-python",
   "name": "python",
   "nbconvert_exporter": "python",
   "pygments_lexer": "ipython3",
   "version": "3.6.2"
  }
 },
 "nbformat": 4,
 "nbformat_minor": 2
}
